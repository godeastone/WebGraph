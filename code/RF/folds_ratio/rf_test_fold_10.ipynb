{
 "cells": [
  {
   "cell_type": "code",
   "execution_count": 1,
   "id": "f44dec55",
   "metadata": {},
   "outputs": [
    {
     "name": "stdout",
     "output_type": "stream",
     "text": [
      "True\n"
     ]
    }
   ],
   "source": [
    "import torch\n",
    "t = torch.randn(2,2).cuda()\n",
    "print(t.is_cuda)\n",
    "\n",
    "csv_path = \"/home/shine/PoisoningAttack/dataset/\"\n",
    "csv_name = \"features_rf_only_cat.csv\"\n",
    "# csv_name = \"adgraph_rf_data_encoded.csv\"\n",
    "save_path = \"/home/shine/PoisoningAttack/saved_model/surrogate.pt\"\n"
   ]
  },
  {
   "cell_type": "code",
   "execution_count": 2,
   "id": "6dacee8d",
   "metadata": {},
   "outputs": [
    {
     "name": "stdout",
     "output_type": "stream",
     "text": [
      "nCar: 432280 nVar: 293\n",
      "-----\n",
      "NonAD (before dropping) : 375130\n",
      "AD (before dropping) : 57150\n",
      "-----\n",
      "NonAD (after dropping) : 375130\n",
      "AD (after dropping) : 37513\n",
      "Ratio : 91 : 9\n"
     ]
    }
   ],
   "source": [
    "import os \n",
    "import pandas as pd \n",
    "import numpy as np\n",
    "from sklearn.model_selection import cross_val_score, StratifiedKFold\n",
    "from sklearn.ensemble import RandomForestClassifier\n",
    "from sklearn.metrics import accuracy_score, precision_score, recall_score, make_scorer\n",
    "from sklearn.utils import resample\n",
    "from joblib import dump, load\n",
    "\n",
    "os.getcwd()\n",
    "data = pd.read_csv(csv_path + csv_name)\n",
    "#data = data.sample(frac=1) #row shuffle\n",
    "# print(type(data))\n",
    "# print(data.head())\n",
    "\n",
    "nCar = data.shape[0]\n",
    "nVar = data.shape[1]\n",
    "print('nCar: %d' % nCar, 'nVar: %d' % nVar )\n",
    "\n",
    "X = data.drop(\"CLASS\", axis=1)\n",
    "y = data[\"CLASS\"]\n",
    "\n",
    "count_class_0, count_class_1 = data['CLASS'].value_counts()\n",
    "print(\"-----\")\n",
    "print(\"NonAD (before dropping) : {}\".format(count_class_0))\n",
    "print(\"AD (before dropping) : {}\".format(count_class_1))\n",
    "\n",
    "count_class_1_to_keep = int(count_class_0 * 0.1)\n",
    "\n",
    "class_1_indices = data[data['CLASS'] == 1].index\n",
    "random_indices = np.random.choice(class_1_indices, size=count_class_1_to_keep, replace=False)\n",
    "class_1_sample = data.loc[random_indices]\n",
    "data_sampled = pd.concat([class_1_sample, data[data['CLASS'] == 0]])\n",
    "\n",
    "data_sampled = data_sampled.reset_index(drop=True)\n",
    "\n",
    "X = data_sampled.drop(\"CLASS\", axis=1)\n",
    "y = data_sampled[\"CLASS\"]\n",
    "\n",
    "count_class_0, count_class_1 = data_sampled['CLASS'].value_counts()\n",
    "print(\"-----\")\n",
    "print(\"NonAD (after dropping) : {}\".format(count_class_0))\n",
    "print(\"AD (after dropping) : {}\".format(count_class_1))\n",
    "print(\"Ratio : {:.0f} : {:.0f}\".format(count_class_0 / (count_class_0 + count_class_1) * 100, count_class_1 / (count_class_0 + count_class_1) * 100))\n",
    "\n",
    "\n",
    "clf = RandomForestClassifier(n_estimators=100, random_state=42)\n"
   ]
  },
  {
   "cell_type": "code",
   "execution_count": 3,
   "id": "9e7c0b81",
   "metadata": {},
   "outputs": [
    {
     "name": "stdout",
     "output_type": "stream",
     "text": [
      "Fold  0\n",
      "Class label: 0 train count: 337617 test count: 37513\n",
      "Class label: 1 train count: 33761 test count: 3752\n",
      "Fold  1\n",
      "Fold  2\n",
      "Fold  3\n",
      "Fold  4\n",
      "Fold  5\n",
      "Class label: 0 train count: 337617 test count: 37513\n",
      "Class label: 1 train count: 33762 test count: 3751\n",
      "Fold  6\n",
      "Fold  7\n",
      "Fold  8\n",
      "Fold  9\n",
      "Class label: 0 train count: 337617 test count: 37513\n",
      "Class label: 1 train count: 33762 test count: 3751\n",
      "Average score: 0.965941499494444\n",
      "Average precision: 0.8828439905765098\n",
      "Average recall: 0.7210825798266162\n"
     ]
    }
   ],
   "source": [
    "# Define the stratified cross-validation object\n",
    "skf = StratifiedKFold(n_splits=10, shuffle=True, random_state=42)\n",
    "\n",
    "to_exclude = [\"DOMAIN_NAME\", \"NODE_ID\", \"FEATURE_KATZ_CENTRALITY\", \"FEATURE_FIRST_PARENT_KATZ_CENTRALITY\", \"FEATURE_SECOND_PARENT_KATZ_CENTRALITY\"]\n",
    "\n",
    "accuracy_history = []\n",
    "precision_history = []\n",
    "recall_history = []\n",
    "\n",
    "# For each fold\n",
    "for fold, (train_index, test_index) in enumerate(skf.split(X, y)):\n",
    "    print(\"Fold \", fold)\n",
    "    fold_train_y = y[train_index]\n",
    "    fold_test_y = y[test_index]\n",
    "    \n",
    "    for class_label in np.unique(y):\n",
    "        train_count = np.count_nonzero(fold_train_y == class_label)\n",
    "        test_count = np.count_nonzero(fold_test_y == class_label)\n",
    "        if fold == 0 or fold == 5 or fold == 9:\n",
    "            print(\"Class label:\", class_label, \"train count:\", train_count, \"test count:\", test_count)\n",
    "\n",
    "    X_train, X_test = X.iloc[train_index], X.iloc[test_index]\n",
    "    y_train, y_test = y.iloc[train_index], y.iloc[test_index]\n",
    "\n",
    "    X_train = X_train.drop(to_exclude, axis=1)\n",
    "    X_test = X_test.drop(to_exclude, axis=1)\n",
    "\n",
    "    # Train\n",
    "    clf.fit(X_train, y_train)\n",
    "\n",
    "    y_pred = clf.predict(X_test)\n",
    "\n",
    "    accuracy_history.append(accuracy_score(y_test, y_pred))\n",
    "    precision_history.append(precision_score(y_test, y_pred))\n",
    "    recall_history.append(recall_score(y_test, y_pred))\n",
    "\n",
    "# Print\n",
    "print(\"Average score:\", np.mean(accuracy_history))\n",
    "print(\"Average precision:\", np.mean(precision_history))\n",
    "print(\"Average recall:\", np.mean(recall_history))"
   ]
  },
  {
   "cell_type": "code",
   "execution_count": 86,
   "id": "6db01f88",
   "metadata": {},
   "outputs": [],
   "source": [
    "from sklearn.model_selection import train_test_split\n",
    "\n",
    "X_sampled, _, y_sampled, _ = train_test_split(X, y, train_size=50000, random_state=42)\n",
    "\n",
    "prediction = clf.predict(X_sampled)\n",
    "\n",
    "# create dataframe\n",
    "X_sampled_df = pd.DataFrame(X_sampled)\n",
    "prediction_df = pd.DataFrame(prediction, columns=[\"Prediction\"])\n",
    "\n",
    "X_sampled_df = X_sampled_df.reset_index()\n",
    "\n",
    "# concate\n",
    "result_df = pd.concat([X_sampled_df, prediction_df], axis=1)\n",
    "\n",
    "result_df = result_df.drop(\"index\", axis=1)\n",
    "\n",
    "# save\n",
    "result_df.to_csv(\"/home/shine/PoisoningAttack/dataset/query_50000.csv\", index=False)"
   ]
  },
  {
   "cell_type": "code",
   "execution_count": 4,
   "id": "0dbea5cd",
   "metadata": {},
   "outputs": [
    {
     "name": "stderr",
     "output_type": "stream",
     "text": [
      "/home/shine/anaconda3/envs/adgraph/lib/python3.8/site-packages/sklearn/base.py:493: FutureWarning: The feature names should match those that were passed during fit. Starting version 1.2, an error will be raised.\n",
      "Feature names unseen at fit time:\n",
      "- feat_0\n",
      "- feat_1\n",
      "- feat_10\n",
      "- feat_11\n",
      "- feat_12\n",
      "- ...\n",
      "Feature names seen at fit time, yet now missing:\n",
      "- 0\n",
      "- 1\n",
      "- 10\n",
      "- 100\n",
      "- 101\n",
      "- ...\n",
      "\n",
      "  warnings.warn(message, FutureWarning)\n"
     ]
    },
    {
     "ename": "ValueError",
     "evalue": "X has 69 features, but RandomForestClassifier is expecting 280 features as input.",
     "output_type": "error",
     "traceback": [
      "\u001b[0;31m---------------------------------------------------------------------------\u001b[0m",
      "\u001b[0;31mValueError\u001b[0m                                Traceback (most recent call last)",
      "\u001b[1;32m/home/shine/PoisoningAttack/RF/rf_test.ipynb Cell 3\u001b[0m in \u001b[0;36m2\n\u001b[1;32m     <a href='vscode-notebook-cell://ssh-remote%2B7b22686f73744e616d65223a224c6f6b69227d/home/shine/PoisoningAttack/RF/rf_test.ipynb#W2sdnNjb2RlLXJlbW90ZQ%3D%3D?line=21'>22</a>\u001b[0m y_pgd \u001b[39m=\u001b[39m after_mapping_target_pgd\n\u001b[1;32m     <a href='vscode-notebook-cell://ssh-remote%2B7b22686f73744e616d65223a224c6f6b69227d/home/shine/PoisoningAttack/RF/rf_test.ipynb#W2sdnNjb2RlLXJlbW90ZQ%3D%3D?line=22'>23</a>\u001b[0m y_nbackdoor \u001b[39m=\u001b[39m after_mapping_target_nbackdoor\n\u001b[0;32m---> <a href='vscode-notebook-cell://ssh-remote%2B7b22686f73744e616d65223a224c6f6b69227d/home/shine/PoisoningAttack/RF/rf_test.ipynb#W2sdnNjb2RlLXJlbW90ZQ%3D%3D?line=24'>25</a>\u001b[0m predict_ad \u001b[39m=\u001b[39m clf\u001b[39m.\u001b[39;49mpredict(X_ad)\n\u001b[1;32m     <a href='vscode-notebook-cell://ssh-remote%2B7b22686f73744e616d65223a224c6f6b69227d/home/shine/PoisoningAttack/RF/rf_test.ipynb#W2sdnNjb2RlLXJlbW90ZQ%3D%3D?line=25'>26</a>\u001b[0m predict_pgd \u001b[39m=\u001b[39m clf\u001b[39m.\u001b[39mpredict(X_pgd)\n\u001b[1;32m     <a href='vscode-notebook-cell://ssh-remote%2B7b22686f73744e616d65223a224c6f6b69227d/home/shine/PoisoningAttack/RF/rf_test.ipynb#W2sdnNjb2RlLXJlbW90ZQ%3D%3D?line=26'>27</a>\u001b[0m predict_nbackdoor \u001b[39m=\u001b[39m clf\u001b[39m.\u001b[39mpredict(X_nbackdoor)\n",
      "File \u001b[0;32m~/anaconda3/envs/adgraph/lib/python3.8/site-packages/sklearn/ensemble/_forest.py:832\u001b[0m, in \u001b[0;36mForestClassifier.predict\u001b[0;34m(self, X)\u001b[0m\n\u001b[1;32m    811\u001b[0m \u001b[39mdef\u001b[39;00m \u001b[39mpredict\u001b[39m(\u001b[39mself\u001b[39m, X):\n\u001b[1;32m    812\u001b[0m     \u001b[39m\"\"\"\u001b[39;00m\n\u001b[1;32m    813\u001b[0m \u001b[39m    Predict class for X.\u001b[39;00m\n\u001b[1;32m    814\u001b[0m \n\u001b[0;32m   (...)\u001b[0m\n\u001b[1;32m    830\u001b[0m \u001b[39m        The predicted classes.\u001b[39;00m\n\u001b[1;32m    831\u001b[0m \u001b[39m    \"\"\"\u001b[39;00m\n\u001b[0;32m--> 832\u001b[0m     proba \u001b[39m=\u001b[39m \u001b[39mself\u001b[39;49m\u001b[39m.\u001b[39;49mpredict_proba(X)\n\u001b[1;32m    834\u001b[0m     \u001b[39mif\u001b[39;00m \u001b[39mself\u001b[39m\u001b[39m.\u001b[39mn_outputs_ \u001b[39m==\u001b[39m \u001b[39m1\u001b[39m:\n\u001b[1;32m    835\u001b[0m         \u001b[39mreturn\u001b[39;00m \u001b[39mself\u001b[39m\u001b[39m.\u001b[39mclasses_\u001b[39m.\u001b[39mtake(np\u001b[39m.\u001b[39margmax(proba, axis\u001b[39m=\u001b[39m\u001b[39m1\u001b[39m), axis\u001b[39m=\u001b[39m\u001b[39m0\u001b[39m)\n",
      "File \u001b[0;32m~/anaconda3/envs/adgraph/lib/python3.8/site-packages/sklearn/ensemble/_forest.py:874\u001b[0m, in \u001b[0;36mForestClassifier.predict_proba\u001b[0;34m(self, X)\u001b[0m\n\u001b[1;32m    872\u001b[0m check_is_fitted(\u001b[39mself\u001b[39m)\n\u001b[1;32m    873\u001b[0m \u001b[39m# Check data\u001b[39;00m\n\u001b[0;32m--> 874\u001b[0m X \u001b[39m=\u001b[39m \u001b[39mself\u001b[39;49m\u001b[39m.\u001b[39;49m_validate_X_predict(X)\n\u001b[1;32m    876\u001b[0m \u001b[39m# Assign chunk of trees to jobs\u001b[39;00m\n\u001b[1;32m    877\u001b[0m n_jobs, _, _ \u001b[39m=\u001b[39m _partition_estimators(\u001b[39mself\u001b[39m\u001b[39m.\u001b[39mn_estimators, \u001b[39mself\u001b[39m\u001b[39m.\u001b[39mn_jobs)\n",
      "File \u001b[0;32m~/anaconda3/envs/adgraph/lib/python3.8/site-packages/sklearn/ensemble/_forest.py:605\u001b[0m, in \u001b[0;36mBaseForest._validate_X_predict\u001b[0;34m(self, X)\u001b[0m\n\u001b[1;32m    602\u001b[0m \u001b[39m\"\"\"\u001b[39;00m\n\u001b[1;32m    603\u001b[0m \u001b[39mValidate X whenever one tries to predict, apply, predict_proba.\"\"\"\u001b[39;00m\n\u001b[1;32m    604\u001b[0m check_is_fitted(\u001b[39mself\u001b[39m)\n\u001b[0;32m--> 605\u001b[0m X \u001b[39m=\u001b[39m \u001b[39mself\u001b[39;49m\u001b[39m.\u001b[39;49m_validate_data(X, dtype\u001b[39m=\u001b[39;49mDTYPE, accept_sparse\u001b[39m=\u001b[39;49m\u001b[39m\"\u001b[39;49m\u001b[39mcsr\u001b[39;49m\u001b[39m\"\u001b[39;49m, reset\u001b[39m=\u001b[39;49m\u001b[39mFalse\u001b[39;49;00m)\n\u001b[1;32m    606\u001b[0m \u001b[39mif\u001b[39;00m issparse(X) \u001b[39mand\u001b[39;00m (X\u001b[39m.\u001b[39mindices\u001b[39m.\u001b[39mdtype \u001b[39m!=\u001b[39m np\u001b[39m.\u001b[39mintc \u001b[39mor\u001b[39;00m X\u001b[39m.\u001b[39mindptr\u001b[39m.\u001b[39mdtype \u001b[39m!=\u001b[39m np\u001b[39m.\u001b[39mintc):\n\u001b[1;32m    607\u001b[0m     \u001b[39mraise\u001b[39;00m \u001b[39mValueError\u001b[39;00m(\u001b[39m\"\u001b[39m\u001b[39mNo support for np.int64 index based sparse matrices\u001b[39m\u001b[39m\"\u001b[39m)\n",
      "File \u001b[0;32m~/anaconda3/envs/adgraph/lib/python3.8/site-packages/sklearn/base.py:600\u001b[0m, in \u001b[0;36mBaseEstimator._validate_data\u001b[0;34m(self, X, y, reset, validate_separately, **check_params)\u001b[0m\n\u001b[1;32m    597\u001b[0m     out \u001b[39m=\u001b[39m X, y\n\u001b[1;32m    599\u001b[0m \u001b[39mif\u001b[39;00m \u001b[39mnot\u001b[39;00m no_val_X \u001b[39mand\u001b[39;00m check_params\u001b[39m.\u001b[39mget(\u001b[39m\"\u001b[39m\u001b[39mensure_2d\u001b[39m\u001b[39m\"\u001b[39m, \u001b[39mTrue\u001b[39;00m):\n\u001b[0;32m--> 600\u001b[0m     \u001b[39mself\u001b[39;49m\u001b[39m.\u001b[39;49m_check_n_features(X, reset\u001b[39m=\u001b[39;49mreset)\n\u001b[1;32m    602\u001b[0m \u001b[39mreturn\u001b[39;00m out\n",
      "File \u001b[0;32m~/anaconda3/envs/adgraph/lib/python3.8/site-packages/sklearn/base.py:400\u001b[0m, in \u001b[0;36mBaseEstimator._check_n_features\u001b[0;34m(self, X, reset)\u001b[0m\n\u001b[1;32m    397\u001b[0m     \u001b[39mreturn\u001b[39;00m\n\u001b[1;32m    399\u001b[0m \u001b[39mif\u001b[39;00m n_features \u001b[39m!=\u001b[39m \u001b[39mself\u001b[39m\u001b[39m.\u001b[39mn_features_in_:\n\u001b[0;32m--> 400\u001b[0m     \u001b[39mraise\u001b[39;00m \u001b[39mValueError\u001b[39;00m(\n\u001b[1;32m    401\u001b[0m         \u001b[39mf\u001b[39m\u001b[39m\"\u001b[39m\u001b[39mX has \u001b[39m\u001b[39m{\u001b[39;00mn_features\u001b[39m}\u001b[39;00m\u001b[39m features, but \u001b[39m\u001b[39m{\u001b[39;00m\u001b[39mself\u001b[39m\u001b[39m.\u001b[39m\u001b[39m__class__\u001b[39m\u001b[39m.\u001b[39m\u001b[39m__name__\u001b[39m\u001b[39m}\u001b[39;00m\u001b[39m \u001b[39m\u001b[39m\"\u001b[39m\n\u001b[1;32m    402\u001b[0m         \u001b[39mf\u001b[39m\u001b[39m\"\u001b[39m\u001b[39mis expecting \u001b[39m\u001b[39m{\u001b[39;00m\u001b[39mself\u001b[39m\u001b[39m.\u001b[39mn_features_in_\u001b[39m}\u001b[39;00m\u001b[39m features as input.\u001b[39m\u001b[39m\"\u001b[39m\n\u001b[1;32m    403\u001b[0m     )\n",
      "\u001b[0;31mValueError\u001b[0m: X has 69 features, but RandomForestClassifier is expecting 280 features as input."
     ]
    }
   ],
   "source": [
    "csv_name_ad = \"adgraph_rf_data_encoded_only_ad.csv\"\n",
    "csv_name_pgd = \"perturbed_features_pgd.csv\"\n",
    "csv_name_nbackdoor = \"perturbed_features_nbackdoor.csv\"\n",
    "\n",
    "data_ad = pd.read_csv(csv_path + csv_name_ad)\n",
    "data_pgd = pd.read_csv(csv_path + csv_name_pgd)\n",
    "data_nbackdoor = pd.read_csv(csv_path + csv_name_nbackdoor)\n",
    "\n",
    "feature_columns_ad = list(data_ad.columns.difference(['CLASS']))\n",
    "feature_columns_pgd = list(data_pgd.columns.difference(['CLASS']))\n",
    "feature_columns_nbackdoor = list(data_nbackdoor.columns.difference(['CLASS']))\n",
    "\n",
    "X_ad = data_ad[feature_columns_ad]\n",
    "X_pgd = data_pgd[feature_columns_pgd]\n",
    "X_nbackdoor = data_nbackdoor[feature_columns_nbackdoor]\n",
    "\n",
    "after_mapping_target_ad = data_ad['CLASS']\n",
    "after_mapping_target_pgd = data_pgd['CLASS']\n",
    "after_mapping_target_nbackdoor = data_nbackdoor['CLASS']\n",
    "\n",
    "y_ad = after_mapping_target_ad\n",
    "y_pgd = after_mapping_target_pgd\n",
    "y_nbackdoor = after_mapping_target_nbackdoor\n",
    "\n",
    "predict_ad = clf.predict(X_ad)\n",
    "predict_pgd = clf.predict(X_pgd)\n",
    "predict_nbackdoor = clf.predict(X_nbackdoor)\n",
    "\n",
    "print(accuracy_score(y_ad, predict_ad))\n",
    "print(accuracy_score(y_pgd, predict_pgd))\n",
    "print(accuracy_score(y_nbackdoor, predict_nbackdoor))\n",
    "\n"
   ]
  }
 ],
 "metadata": {
  "kernelspec": {
   "display_name": "adgraph",
   "language": "python",
   "name": "python3"
  },
  "language_info": {
   "codemirror_mode": {
    "name": "ipython",
    "version": 3
   },
   "file_extension": ".py",
   "mimetype": "text/x-python",
   "name": "python",
   "nbconvert_exporter": "python",
   "pygments_lexer": "ipython3",
   "version": "3.8.15"
  }
 },
 "nbformat": 4,
 "nbformat_minor": 5
}
